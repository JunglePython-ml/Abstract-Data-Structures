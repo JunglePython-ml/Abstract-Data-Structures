{
 "cells": [
  {
   "cell_type": "markdown",
   "metadata": {},
   "source": [
    "# Abstract Data Structures"
   ]
  },
  {
   "cell_type": "raw",
   "metadata": {},
   "source": [
    "By George Barrell"
   ]
  },
  {
   "cell_type": "markdown",
   "metadata": {},
   "source": [
    "### Data Structure Template"
   ]
  },
  {
   "cell_type": "markdown",
   "metadata": {},
   "source": [
    "As Python doesn't support arrays, the following programs were achieved using lists instead. There are a number of common methods that can be carried out on Queues, Priority Queues and Stacks. Methods like pop(), push() and empty() can be applied to each of these structures, as implimented in the super class bellow:"
   ]
  },
  {
   "cell_type": "code",
   "execution_count": 1,
   "metadata": {},
   "outputs": [],
   "source": [
    "class Array:\n",
    "    \"\"\" A list template for all common methods of queues, priority queues and stacks\n",
    "\n",
    "    :__init__: Represents the datastructer as a list.\n",
    "    :__len__: Returns the length of the list\n",
    "    :__str__: Returns the list as a string.\n",
    "    \"\"\"\n",
    "\n",
    "    def __init__(self):\n",
    "        self._list = []\n",
    "\n",
    "    def __len__(self):\n",
    "        return len(self._list)\n",
    "\n",
    "    def __str__(self):\n",
    "        return str(self._list)\n",
    "\n",
    "    def is_empty(self):\n",
    "        \"\"\" Determines if the list is empty.\n",
    "\n",
    "        :return: If the list is length is zero.\n",
    "        \"\"\"\n",
    "        return len(self) == 0\n",
    "\n",
    "    def empty(self):\n",
    "        \"\"\" Empties the list\n",
    "        \"\"\"\n",
    "        self._list = []\n",
    "\n",
    "    def _pop(self):\n",
    "        \"\"\" Removes the last value from the stack.\n",
    "\n",
    "        :return: The last value of the stack.\n",
    "        \"\"\"\n",
    "        return self._list.pop()\n",
    "\n",
    "    def _push(self, value):\n",
    "        \"\"\" Adds a value to the end of the stack.\n",
    "\n",
    "        :value: The value to append to the stack.\n",
    "        \"\"\"\n",
    "        self._list.append(value)"
   ]
  },
  {
   "cell_type": "markdown",
   "metadata": {},
   "source": [
    "## Stacks"
   ]
  },
  {
   "cell_type": "markdown",
   "metadata": {},
   "source": [
    "A stack is an abstract data structure, that relies on a Last In First Out policy, to hold items or values. It provides functionality such that an item can be pushed or popped off of a stack. A push function takes a value and inserts it onto the top of the stack. A pop function as the functionality of removing the top value from a stack and returning the value of this data. It uses a top variable to indicate the index of the access variable.\n",
    " \n",
    "If an item is pushed onto a full stack this occurs in a stack overflow. Alternatively if an item is popped off an empty stack, this occurs in a stack underflow. \n",
    "\n",
    "There are many situations where a stack is applicable. One of the main applications is in procedural programming. When a series of function/procedural calls are performed a stack can be used to unwrap nested function calls dealing with the most resent function call first and working down the stack until empty. They are also used for undo/redo functionality on documents. \n",
    "\n"
   ]
  },
  {
   "cell_type": "markdown",
   "metadata": {},
   "source": [
    "To impliment a stack, the following class can be used to inherit common methods from the template above, like in the following implimentation:"
   ]
  },
  {
   "cell_type": "code",
   "execution_count": 2,
   "metadata": {},
   "outputs": [],
   "source": [
    "class Stack(Array):\n",
    "    \"\"\" A stack is an abstract data type that uses a Last In First Out policy to store variables.\n",
    "    \"\"\""
   ]
  },
  {
   "cell_type": "markdown",
   "metadata": {},
   "source": [
    "Bellow is the pseudocode for a pop function that demonstrates removing an element of a stack:"
   ]
  },
  {
   "cell_type": "raw",
   "metadata": {},
   "source": [
    "function pop()  \n",
    "    if !isEmpty() then \n",
    "        i = peep() \n",
    "        top-- \n",
    "        return i \n",
    "    endif \n",
    "endfunction "
   ]
  },
  {
   "cell_type": "code",
   "execution_count": 3,
   "metadata": {},
   "outputs": [],
   "source": [
    "Stack.pop = Array._pop"
   ]
  },
  {
   "cell_type": "markdown",
   "metadata": {},
   "source": [
    "Bellow is the pseudocode for a push procedure that demonstrates adding an element to a stack:"
   ]
  },
  {
   "cell_type": "raw",
   "metadata": {},
   "source": [
    "procedure push(i) \n",
    "    if !isFull() then \n",
    "        top++ \n",
    "        stack[top] = i \n",
    "       endif \n",
    "endprocedure "
   ]
  },
  {
   "cell_type": "code",
   "execution_count": 4,
   "metadata": {},
   "outputs": [],
   "source": [
    "Stack.push = Array._push"
   ]
  },
  {
   "cell_type": "markdown",
   "metadata": {},
   "source": [
    "An additional function that is not shared by queues is a method that allows you to look at the top value in a stack. This is easily achieved using this implimentation:"
   ]
  },
  {
   "cell_type": "code",
   "execution_count": 5,
   "metadata": {},
   "outputs": [],
   "source": [
    "def peep(self):\n",
    "    \"\"\" Peeps on the last value in the stack.\n",
    "\n",
    "    :return: The last value of the stack.\n",
    "    \"\"\"\n",
    "    return self._list[-1]\n",
    "Stack.peep = peep"
   ]
  },
  {
   "cell_type": "markdown",
   "metadata": {},
   "source": [
    "#### Towers Of Hanoi \n",
    "https://en.wikipedia.org/wiki/Tower_of_Hanoi"
   ]
  },
  {
   "cell_type": "markdown",
   "metadata": {},
   "source": [
    "To demonstrate the all methods work and implimentation is successful I have implimented the 'Towers Of Hanoi' puzzle bellow:"
   ]
  },
  {
   "cell_type": "code",
   "execution_count": 6,
   "metadata": {},
   "outputs": [
    {
     "name": "stdout",
     "output_type": "stream",
     "text": [
      "[0, 1]\n",
      "[]\n",
      "[]\n",
      "\n",
      "Move 1 from A to B\n",
      "[0]\n",
      "[1]\n",
      "[]\n",
      "\n",
      "Move 0 from A to C\n",
      "[]\n",
      "[1]\n",
      "[0]\n",
      "\n",
      "Move 1 from B to C\n",
      "[]\n",
      "[]\n",
      "[0, 1]\n",
      "\n"
     ]
    }
   ],
   "source": [
    "N = 2  # Stack height\n",
    "\n",
    "## Moves each value over the stack\n",
    "def move(n, a, b):\n",
    "    chars = list(zip(*print_list))[1]\n",
    "    out = [st_A, st_C, st_B, a.peep()] + [chars[list(zip(*print_list))[0].index(i)] for i in [a, b]]\n",
    "    print(\"{0}\\n{1}\\n{2}\\n\\nMove {3} from {4} to {5}\".format(*out))  # Utilisation of the peep() method\n",
    "    b.push(a.pop())  # Moves value on stack 'a'to stack 'b' using the push() and pop() methods\n",
    "\n",
    "## Recursive implimentation of the Towers Of Hanoi\n",
    "def TowerOfHanoi(n, a, b, c):\n",
    "    if n==1: \n",
    "        move(n, a, b)\n",
    "        return\n",
    "    TowerOfHanoi(n-1, a, c, b) \n",
    "    move(n, a, b)\n",
    "    TowerOfHanoi(n-1, c, b, a) \n",
    "    \n",
    "# Main #\n",
    "if __name__ == \"__main__\":\n",
    "    st_A, st_B, st_C = Stack(), Stack(), Stack()  # Creates three stacks\n",
    "    for i in range(N):\n",
    "        st_A.push(i)\n",
    "    print_list = [(st_A, 'A'), (st_C, 'B'), (st_B, 'C')]\n",
    "    TowerOfHanoi(N, st_A, st_B, st_C)  # Moves the stacks from A to C\n",
    "    print(f\"{st_A}\\n{st_C}\\n{st_B}\\n\")"
   ]
  },
  {
   "cell_type": "markdown",
   "metadata": {},
   "source": [
    "## Queues"
   ]
  },
  {
   "cell_type": "markdown",
   "metadata": {},
   "source": [
    "A queue is an abstract data structure. Like a stack it provides functionality to add and remove items However it does this using a First In First Out policy. This means that items are removed from one end (dequeue) and appended to the other (enqueue). Instead it will use the head a tail variable to measure the range of the queue.\n",
    "\n",
    "\n",
    "Linear queues are often applicable when carrying out a series of tasks in sequence."
   ]
  },
  {
   "cell_type": "markdown",
   "metadata": {},
   "source": [
    "A queue can be implimented using the array template made previous and creating a subclass like the one bellow:"
   ]
  },
  {
   "cell_type": "code",
   "execution_count": 7,
   "metadata": {},
   "outputs": [],
   "source": [
    "class Queue(Array):\n",
    "    \"\"\" A queue is an abstract data type that uses a First In First Out policy to store variables.\n",
    "    \"\"\""
   ]
  },
  {
   "cell_type": "markdown",
   "metadata": {},
   "source": [
    "The enqueue procedure can be performed exactly the same as a stack's push procedure ie:"
   ]
  },
  {
   "cell_type": "raw",
   "metadata": {},
   "source": [
    "procedure enqueue(i) \n",
    "    if !isFull() then \n",
    "        tail++ \n",
    "        queue[tail] = i \n",
    "       endif \n",
    "endprocedure"
   ]
  },
  {
   "cell_type": "code",
   "execution_count": 8,
   "metadata": {},
   "outputs": [],
   "source": [
    "Queue.enqueue = Array._push"
   ]
  },
  {
   "cell_type": "markdown",
   "metadata": {},
   "source": [
    "The dequeue method works similarly to a stack pop function. However it will pop the first item in the queue."
   ]
  },
  {
   "cell_type": "raw",
   "metadata": {},
   "source": [
    "function dequeue()  \n",
    "    if !isEmpty() then \n",
    "        i = peep() \n",
    "        head++\n",
    "        return i \n",
    "    endif \n",
    "endfunction"
   ]
  },
  {
   "cell_type": "markdown",
   "metadata": {},
   "source": [
    "Implimentation is similar. However the first item is poped instead of the last."
   ]
  },
  {
   "cell_type": "code",
   "execution_count": 9,
   "metadata": {},
   "outputs": [],
   "source": [
    "def dequeue(self):\n",
    "    return self._list.pop(0)\n",
    "Queue.dequeue = dequeue"
   ]
  },
  {
   "cell_type": "markdown",
   "metadata": {},
   "source": [
    "Bellow is an implimentation of a queue of people. Where the queue is enqueued 5 times and dequeued 5 times:"
   ]
  },
  {
   "cell_type": "code",
   "execution_count": 10,
   "metadata": {},
   "outputs": [
    {
     "name": "stdout",
     "output_type": "stream",
     "text": [
      "['Ash']\n",
      "['Ash', 'Antje']\n",
      "['Ash', 'Antje', 'Residencia']\n",
      "['Ash', 'Antje', 'Residencia', 'Nalini']\n",
      "['Ash', 'Antje', 'Residencia', 'Nalini', 'Jules']\n",
      "['Antje', 'Residencia', 'Nalini', 'Jules']\n",
      "['Residencia', 'Nalini', 'Jules']\n",
      "['Nalini', 'Jules']\n",
      "['Jules']\n",
      "[]\n",
      "True\n"
     ]
    }
   ],
   "source": [
    "import requests\n",
    "import random\n",
    "\n",
    "URL = \"https://raw.githubusercontent.com/JunglePython-ml/Abstract-Data-Structures/main/firstnames\"\n",
    "\n",
    "RAW = requests.get(URL).text\n",
    "FIRST_NAMES = RAW.split()\n",
    "\n",
    "# Returns a random name from my online API\n",
    "def random_name():\n",
    "    return random.choice(FIRST_NAMES).capitalize()\n",
    "\n",
    "# Main #\n",
    "if __name__ == \"__main__\":\n",
    "    q = Queue()\n",
    "    for i in range(5):\n",
    "        q.enqueue(random_name())\n",
    "        print(q)\n",
    "    for i in range(5):\n",
    "        q.dequeue()\n",
    "        print(q)\n",
    "    print(q.is_empty())"
   ]
  },
  {
   "cell_type": "markdown",
   "metadata": {},
   "source": [
    "### Priority Queues"
   ]
  },
  {
   "cell_type": "markdown",
   "metadata": {},
   "source": [
    "Similar to a standard queue, a priority queue uses a First In First Out policy to store values. However a priority queue will insert each of the values based upon how the system prioritises each of them. \n",
    "\n",
    "This can often be used in sceduling to carry out a sequence of tasks based on their priority."
   ]
  },
  {
   "cell_type": "markdown",
   "metadata": {},
   "source": [
    "A queue can be implimented the using the 'Queue' class above. However some small modifications must be made to ensure that each value carries a priority. This involves using polymorphism to modify the enqueue method so that it is inserted based on the correct priority."
   ]
  },
  {
   "cell_type": "code",
   "execution_count": 11,
   "metadata": {},
   "outputs": [],
   "source": [
    "class PriorityQueue(Queue):\n",
    "    \"\"\" A priority queue is an abstract data type that uses a First In First Out Policy to store variables in order of\n",
    "    priority.\n",
    "    \"\"\"\n",
    "    \n",
    "    def __str__(self):\n",
    "        return str(list(list(zip(*self._list))[0]))"
   ]
  },
  {
   "cell_type": "markdown",
   "metadata": {},
   "source": [
    "The pseduocode to dequeue a prioity queue is exactly the same as a linear queue as it can be assumed that the data structure is already sorted into priority."
   ]
  },
  {
   "cell_type": "raw",
   "metadata": {},
   "source": [
    "function dequeue()  \n",
    "    if !isEmpty() then \n",
    "        i = peep() \n",
    "        head++ \n",
    "        return i \n",
    "    endif \n",
    "endfunction"
   ]
  },
  {
   "cell_type": "markdown",
   "metadata": {},
   "source": [
    "The pseduocode is slightly different for a enqueue procedure for a priority queue. An integrated linear search must be used to insert the data at the correct priority location."
   ]
  },
  {
   "cell_type": "raw",
   "metadata": {},
   "source": [
    "procedure enqueue(val, p) \n",
    "    if !isFull() then \n",
    "        for i=head to tail\n",
    "            if queue[i].priority < p then\n",
    "                tail++ \n",
    "                temp = queue[i]\n",
    "                queue[i] = val\n",
    "                break\n",
    "            endif\n",
    "        next i\n",
    "        for i=i+1 to tail\n",
    "            temp1 = queue[i]\n",
    "            queue[i] = temp\n",
    "            temp = temp1\n",
    "        next i         \n",
    "    endif \n",
    "endprocedure"
   ]
  },
  {
   "cell_type": "code",
   "execution_count": 12,
   "metadata": {},
   "outputs": [],
   "source": [
    "def enqueue(self, value, priority: int=0):\n",
    "    \"\"\" Adds a value to the end of the priority queue.\n",
    "\n",
    "    :value: The value to append to the priority queue.\n",
    "    :priority(int): The priority of the value.\n",
    "    \"\"\"\n",
    "    self._list.append((value, priority))\n",
    "    self._list.sort(key=lambda x:x[1])\n",
    "    self._list = self._list[::-1]\n",
    "PriorityQueue.enqueue = enqueue"
   ]
  },
  {
   "cell_type": "markdown",
   "metadata": {},
   "source": [
    "Bellow is an implimentation of Boris' vacination priorities and how they can be integerated using a priority queue:"
   ]
  },
  {
   "cell_type": "code",
   "execution_count": 13,
   "metadata": {},
   "outputs": [
    {
     "name": "stdout",
     "output_type": "stream",
     "text": [
      "['Adults aged 16 to 65 years in an at-risk group (see clinical conditions '\n",
      " 'below)']\n",
      "\n",
      "['Adults aged 16 to 65 years in an at-risk group (see clinical conditions '\n",
      " 'below)',\n",
      " 'All those 55 years of age and over']\n",
      "\n",
      "['Adults aged 16 to 65 years in an at-risk group (see clinical conditions '\n",
      " 'below)',\n",
      " 'All those 55 years of age and over',\n",
      " 'Rest of the population (to be determined)']\n",
      "\n",
      "['All those 70 years of age and over and clinically extremely vulnerable '\n",
      " 'individuals (not including pregnant women and those under 16 years of age)',\n",
      " 'Adults aged 16 to 65 years in an at-risk group (see clinical conditions '\n",
      " 'below)',\n",
      " 'All those 55 years of age and over',\n",
      " 'Rest of the population (to be determined)']\n",
      "\n",
      "['All those 80 years of age and over and frontline health and social care '\n",
      " 'workers',\n",
      " 'All those 70 years of age and over and clinically extremely vulnerable '\n",
      " 'individuals (not including pregnant women and those under 16 years of age)',\n",
      " 'Adults aged 16 to 65 years in an at-risk group (see clinical conditions '\n",
      " 'below)',\n",
      " 'All those 55 years of age and over',\n",
      " 'Rest of the population (to be determined)']\n",
      "\n",
      "['All those 80 years of age and over and frontline health and social care '\n",
      " 'workers',\n",
      " 'All those 75 years of age and over',\n",
      " 'All those 70 years of age and over and clinically extremely vulnerable '\n",
      " 'individuals (not including pregnant women and those under 16 years of age)',\n",
      " 'Adults aged 16 to 65 years in an at-risk group (see clinical conditions '\n",
      " 'below)',\n",
      " 'All those 55 years of age and over',\n",
      " 'Rest of the population (to be determined)']\n",
      "\n",
      "['Residents in a care home for older adults and staff working in care homes '\n",
      " 'for older adults',\n",
      " 'All those 80 years of age and over and frontline health and social care '\n",
      " 'workers',\n",
      " 'All those 75 years of age and over',\n",
      " 'All those 70 years of age and over and clinically extremely vulnerable '\n",
      " 'individuals (not including pregnant women and those under 16 years of age)',\n",
      " 'Adults aged 16 to 65 years in an at-risk group (see clinical conditions '\n",
      " 'below)',\n",
      " 'All those 55 years of age and over',\n",
      " 'Rest of the population (to be determined)']\n",
      "\n",
      "['Residents in a care home for older adults and staff working in care homes '\n",
      " 'for older adults',\n",
      " 'All those 80 years of age and over and frontline health and social care '\n",
      " 'workers',\n",
      " 'All those 75 years of age and over',\n",
      " 'All those 70 years of age and over and clinically extremely vulnerable '\n",
      " 'individuals (not including pregnant women and those under 16 years of age)',\n",
      " 'Adults aged 16 to 65 years in an at-risk group (see clinical conditions '\n",
      " 'below)',\n",
      " 'All those 60 years of age and over',\n",
      " 'All those 55 years of age and over',\n",
      " 'Rest of the population (to be determined)']\n",
      "\n",
      "['Residents in a care home for older adults and staff working in care homes '\n",
      " 'for older adults',\n",
      " 'All those 80 years of age and over and frontline health and social care '\n",
      " 'workers',\n",
      " 'All those 75 years of age and over',\n",
      " 'All those 70 years of age and over and clinically extremely vulnerable '\n",
      " 'individuals (not including pregnant women and those under 16 years of age)',\n",
      " 'Adults aged 16 to 65 years in an at-risk group (see clinical conditions '\n",
      " 'below)',\n",
      " 'All those 60 years of age and over',\n",
      " 'All those 55 years of age and over',\n",
      " 'All those 50 years of age and over',\n",
      " 'Rest of the population (to be determined)']\n",
      "\n",
      "['Residents in a care home for older adults and staff working in care homes '\n",
      " 'for older adults',\n",
      " 'All those 80 years of age and over and frontline health and social care '\n",
      " 'workers',\n",
      " 'All those 75 years of age and over',\n",
      " 'All those 70 years of age and over and clinically extremely vulnerable '\n",
      " 'individuals (not including pregnant women and those under 16 years of age)',\n",
      " 'All those 65 years of age and over',\n",
      " 'Adults aged 16 to 65 years in an at-risk group (see clinical conditions '\n",
      " 'below)',\n",
      " 'All those 60 years of age and over',\n",
      " 'All those 55 years of age and over',\n",
      " 'All those 50 years of age and over',\n",
      " 'Rest of the population (to be determined)']\n",
      "\n",
      "['All those 80 years of age and over and frontline health and social care '\n",
      " 'workers',\n",
      " 'All those 75 years of age and over',\n",
      " 'All those 70 years of age and over and clinically extremely vulnerable '\n",
      " 'individuals (not including pregnant women and those under 16 years of age)',\n",
      " 'All those 65 years of age and over',\n",
      " 'Adults aged 16 to 65 years in an at-risk group (see clinical conditions '\n",
      " 'below)',\n",
      " 'All those 60 years of age and over',\n",
      " 'All those 55 years of age and over',\n",
      " 'All those 50 years of age and over',\n",
      " 'Rest of the population (to be determined)']\n",
      "\n",
      "['All those 75 years of age and over',\n",
      " 'All those 70 years of age and over and clinically extremely vulnerable '\n",
      " 'individuals (not including pregnant women and those under 16 years of age)',\n",
      " 'All those 65 years of age and over',\n",
      " 'Adults aged 16 to 65 years in an at-risk group (see clinical conditions '\n",
      " 'below)',\n",
      " 'All those 60 years of age and over',\n",
      " 'All those 55 years of age and over',\n",
      " 'All those 50 years of age and over',\n",
      " 'Rest of the population (to be determined)']\n",
      "\n",
      "['All those 70 years of age and over and clinically extremely vulnerable '\n",
      " 'individuals (not including pregnant women and those under 16 years of age)',\n",
      " 'All those 65 years of age and over',\n",
      " 'Adults aged 16 to 65 years in an at-risk group (see clinical conditions '\n",
      " 'below)',\n",
      " 'All those 60 years of age and over',\n",
      " 'All those 55 years of age and over',\n",
      " 'All those 50 years of age and over',\n",
      " 'Rest of the population (to be determined)']\n",
      "\n",
      "['All those 65 years of age and over',\n",
      " 'Adults aged 16 to 65 years in an at-risk group (see clinical conditions '\n",
      " 'below)',\n",
      " 'All those 60 years of age and over',\n",
      " 'All those 55 years of age and over',\n",
      " 'All those 50 years of age and over',\n",
      " 'Rest of the population (to be determined)']\n",
      "\n"
     ]
    }
   ],
   "source": [
    "import pprint as pp\n",
    "import random\n",
    "import requests\n",
    "\n",
    "URL = \"https://raw.githubusercontent.com/JunglePython-ml/Abstract-Data-Structures/main/boris'database\"\n",
    "\n",
    "# Loads Boris' Database and gives each a priority to be vacinated\n",
    "RAW = requests.get(URL).text\n",
    "PRIORITIES = list(enumerate(RAW.split(\"\\n\")[:-1][::-1]))\n",
    "      \n",
    "pq = PriorityQueue()\n",
    "random.shuffle(PRIORITIES)  # Shuffles priorities\n",
    "for i, p in PRIORITIES:  # Imports all priorities\n",
    "    pq.enqueue(p, i)\n",
    "    pp.pprint(eval(str(pq)))\n",
    "    print()\n",
    "for i in range(4):  # Top 4 priorities are vacinated and can be dequeued\n",
    "    pq.dequeue()\n",
    "    pp.pprint(eval(str(pq)))\n",
    "    print()"
   ]
  },
  {
   "cell_type": "code",
   "execution_count": null,
   "metadata": {},
   "outputs": [],
   "source": []
  },
  {
   "cell_type": "code",
   "execution_count": null,
   "metadata": {},
   "outputs": [],
   "source": []
  }
 ],
 "metadata": {
  "kernelspec": {
   "display_name": "Python 3",
   "language": "python",
   "name": "python3"
  },
  "language_info": {
   "codemirror_mode": {
    "name": "ipython",
    "version": 3
   },
   "file_extension": ".py",
   "mimetype": "text/x-python",
   "name": "python",
   "nbconvert_exporter": "python",
   "pygments_lexer": "ipython3",
   "version": "3.8.5"
  }
 },
 "nbformat": 4,
 "nbformat_minor": 4
}
