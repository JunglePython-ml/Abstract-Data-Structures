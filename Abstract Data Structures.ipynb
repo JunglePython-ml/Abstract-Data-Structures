{
 "cells": [
  {
   "cell_type": "markdown",
   "metadata": {},
   "source": [
    "# Abstract Data Structures"
   ]
  },
  {
   "cell_type": "raw",
   "metadata": {},
   "source": [
    "By George Barrell"
   ]
  },
  {
   "cell_type": "markdown",
   "metadata": {},
   "source": [
    "### Data Structure Template"
   ]
  },
  {
   "cell_type": "markdown",
   "metadata": {},
   "source": [
    "As Python doesn't support arrays, the following programs were achieved using lists instead. There are a number of common methods that can be carried out on Queues, Priority Queues and Stacks. Methods like pop(), push() and empty() can be applied to each of these structures, as implimented in the super class bellow:"
   ]
  },
  {
   "cell_type": "markdown",
   "metadata": {},
   "source": [
    "##### Implimentation"
   ]
  },
  {
   "cell_type": "code",
   "execution_count": 1,
   "metadata": {},
   "outputs": [],
   "source": [
    "class Array:\n",
    "    \"\"\" A list template for all common methods of queues, priority queues and stacks\n",
    "\n",
    "    :__init__: Represents the datastructer as a list.\n",
    "    :__len__: Returns the length of the list\n",
    "    :__str__: Returns the list as a string.\n",
    "    \"\"\"\n",
    "\n",
    "    def __init__(self):\n",
    "        self._list = []\n",
    "\n",
    "    def __len__(self):\n",
    "        return len(self._list)\n",
    "\n",
    "    def __str__(self):\n",
    "        return str(self._list)\n",
    "    \n",
    "    def empty(self):\n",
    "        \"\"\" Empties the list\n",
    "        \"\"\"\n",
    "        self._list = []\n",
    "\n",
    "    def is_empty(self):\n",
    "        \"\"\" Determines if the list is empty.\n",
    "\n",
    "        :return: If the list is length is zero.\n",
    "        \"\"\"\n",
    "        return len(self) == 0\n",
    "\n",
    "    def _pop(self):\n",
    "        \"\"\" Removes the last value from the stack.\n",
    "\n",
    "        :return: The last value of the stack.\n",
    "        \"\"\"\n",
    "        return self._list.pop()\n",
    "\n",
    "    def _push(self, value):\n",
    "        \"\"\" Adds a value to the end of the stack.\n",
    "\n",
    "        :value: The value to append to the stack.\n",
    "        \"\"\"\n",
    "        self._list.append(value)"
   ]
  },
  {
   "cell_type": "markdown",
   "metadata": {},
   "source": [
    "## Stacks"
   ]
  },
  {
   "cell_type": "markdown",
   "metadata": {},
   "source": [
    "A stack is an abstract data structure, that relies on a Last In First Out policy, to hold items or values. It provides functionality such that an item can be pushed or popped off of a stack. A push function takes a value and inserts it onto the top of the stack. A pop function as the functionality of removing the top value from a stack and returning the value of this data. It uses a top variable to indicate the index of the access variable.\n",
    " \n",
    "If an item is pushed onto a full stack this occurs in a stack overflow. Alternatively if an item is popped off an empty stack, this occurs in a stack underflow. \n",
    "\n",
    "There are many situations where a stack is applicable. One of the main applications is in procedural programming. When a series of function/procedural calls are performed a stack can be used to unwrap nested function calls dealing with the most resent function call first and working down the stack until empty. They are also used for undo/redo functionality on documents. \n",
    "\n"
   ]
  },
  {
   "cell_type": "markdown",
   "metadata": {},
   "source": [
    "##### Implimentation"
   ]
  },
  {
   "cell_type": "code",
   "execution_count": 2,
   "metadata": {},
   "outputs": [],
   "source": [
    "class Stack(Array):\n",
    "    \"\"\" A stack is an abstract data type that uses a Last In First Out policy to store variables.\n",
    "    \"\"\""
   ]
  },
  {
   "cell_type": "markdown",
   "metadata": {},
   "source": [
    "Bellow is the pseudocode for a pop function that demonstrates removing an element of a stack:"
   ]
  },
  {
   "cell_type": "raw",
   "metadata": {},
   "source": [
    "function pop()  \n",
    "    if !isEmpty() then \n",
    "        i = peep() \n",
    "        top-- \n",
    "        return i \n",
    "    endif \n",
    "endfunction "
   ]
  },
  {
   "cell_type": "code",
   "execution_count": 3,
   "metadata": {},
   "outputs": [],
   "source": [
    "Stack.pop = Array._pop"
   ]
  },
  {
   "cell_type": "markdown",
   "metadata": {},
   "source": [
    "Bellow is the pseudocode for a push procedure that demonstrates adding an element to a stack:"
   ]
  },
  {
   "cell_type": "raw",
   "metadata": {},
   "source": [
    "procedure push(i) \n",
    "    if !isFull() then \n",
    "        top++ \n",
    "        stack[top] = i \n",
    "       endif \n",
    "endprocedure "
   ]
  },
  {
   "cell_type": "code",
   "execution_count": 4,
   "metadata": {},
   "outputs": [],
   "source": [
    "Stack.push = Array._push"
   ]
  },
  {
   "cell_type": "markdown",
   "metadata": {},
   "source": [
    "An additional function that is not shared by queues is a method that allows you to look at the top value in a stack. This is easily achieved using this method:"
   ]
  },
  {
   "cell_type": "code",
   "execution_count": 5,
   "metadata": {},
   "outputs": [],
   "source": [
    "def peep(self):\n",
    "    \"\"\" Peeps on the last value in the stack.\n",
    "\n",
    "    :return: The last value of the stack.\n",
    "    \"\"\"\n",
    "    return self._list[-1]\n",
    "Stack.peep = peep"
   ]
  },
  {
   "cell_type": "markdown",
   "metadata": {},
   "source": [
    "#### Towers Of Hanoi \n",
    "https://en.wikipedia.org/wiki/Tower_of_Hanoi"
   ]
  },
  {
   "cell_type": "markdown",
   "metadata": {},
   "source": [
    "To demonstrate the all methods work and implimentation is successful I have implimented the 'Towers Of Hanoi' puzzle bellow:"
   ]
  },
  {
   "cell_type": "code",
   "execution_count": 6,
   "metadata": {},
   "outputs": [
    {
     "name": "stdout",
     "output_type": "stream",
     "text": [
      "[0, 1]\n",
      "[]\n",
      "[]\n",
      "\n",
      "Move 1 from A to B\n",
      "[0]\n",
      "[1]\n",
      "[]\n",
      "\n",
      "Move 0 from A to C\n",
      "[]\n",
      "[1]\n",
      "[0]\n",
      "\n",
      "Move 1 from B to C\n",
      "[]\n",
      "[]\n",
      "[0, 1]\n",
      "\n"
     ]
    }
   ],
   "source": [
    "N = 2  # Stack height\n",
    "\n",
    "## Moves each value over the stack\n",
    "def move(n, a, b):\n",
    "    chars = list(zip(*print_list))[1]\n",
    "    out = [st_A, st_C, st_B, a.peep()] + [chars[list(zip(*print_list))[0].index(i)] for i in [a, b]]\n",
    "    print(\"{0}\\n{1}\\n{2}\\n\\nMove {3} from {4} to {5}\".format(*out))  # Utilisation of the peep() method\n",
    "    b.push(a.pop())  # Moves value on stack 'a'to stack 'b' using the push() and pop() methods\n",
    "\n",
    "## Recursive implimentation of the Towers Of Hanoi\n",
    "def TowerOfHanoi(n, a, b, c):\n",
    "    if n==1: \n",
    "        move(n, a, b)\n",
    "        return\n",
    "    TowerOfHanoi(n-1, a, c, b) \n",
    "    move(n, a, b)\n",
    "    TowerOfHanoi(n-1, c, b, a) \n",
    "    \n",
    "# Main #\n",
    "if __name__ == \"__main__\":\n",
    "    st_A, st_B, st_C = Stack(), Stack(), Stack()  # Creates three stacks\n",
    "    for i in range(N):\n",
    "        st_A.push(i)\n",
    "    print_list = [(st_A, 'A'), (st_C, 'B'), (st_B, 'C')]\n",
    "    TowerOfHanoi(N, st_A, st_B, st_C)  # Moves the stacks from A to C\n",
    "    print(f\"{st_A}\\n{st_C}\\n{st_B}\\n\")"
   ]
  },
  {
   "cell_type": "markdown",
   "metadata": {},
   "source": [
    "## Queues"
   ]
  },
  {
   "cell_type": "markdown",
   "metadata": {},
   "source": [
    "A queue is an abstract data structure. Like a stack it provides functionality to add and remove items However it does this using a First In First Out policy. This means that items are removed from one end (dequeue) and appended to the other (enqueue). Instead it will use the head a tail variable to measure the range of the queue.\n",
    "\n",
    "\n",
    "Linear queues are often applicable when carrying out a series of tasks in sequence."
   ]
  },
  {
   "cell_type": "markdown",
   "metadata": {},
   "source": [
    "##### Implimentation"
   ]
  },
  {
   "cell_type": "code",
   "execution_count": 7,
   "metadata": {},
   "outputs": [],
   "source": [
    "class Queue(Array):\n",
    "    \"\"\" A queue is an abstract data type that uses a First In First Out policy to store variables.\n",
    "    \"\"\""
   ]
  },
  {
   "cell_type": "markdown",
   "metadata": {},
   "source": [
    "The enqueue procedure can be performed exactly the same as a stack's push procedure ie:"
   ]
  },
  {
   "cell_type": "raw",
   "metadata": {},
   "source": [
    "procedure enqueue(i) \n",
    "    if !isFull() then \n",
    "        tail++ \n",
    "        queue[tail] = i \n",
    "       endif \n",
    "endprocedure"
   ]
  },
  {
   "cell_type": "code",
   "execution_count": 8,
   "metadata": {},
   "outputs": [],
   "source": [
    "Queue.enqueue = Array._push"
   ]
  },
  {
   "cell_type": "markdown",
   "metadata": {},
   "source": [
    "The dequeue method works similarly to a stack pop function. However it will pop the first item in the queue."
   ]
  },
  {
   "cell_type": "raw",
   "metadata": {},
   "source": [
    "function dequeue()  \n",
    "    if !isEmpty() then \n",
    "        i = peep() \n",
    "        head++\n",
    "        return i \n",
    "    endif \n",
    "endfunction"
   ]
  },
  {
   "cell_type": "markdown",
   "metadata": {},
   "source": [
    "Implimentation of a dequeue method is similar to a pop method on a stack. However the first item is poped instead of the last."
   ]
  },
  {
   "cell_type": "code",
   "execution_count": 9,
   "metadata": {},
   "outputs": [],
   "source": [
    "def dequeue(self):\n",
    "    return self._list.pop(0)\n",
    "Queue.dequeue = dequeue"
   ]
  },
  {
   "cell_type": "markdown",
   "metadata": {},
   "source": [
    "#### People in a Queue"
   ]
  },
  {
   "cell_type": "markdown",
   "metadata": {},
   "source": [
    "Bellow is an implimentation of a queue of people. Where the queue is enqueued 5 times and dequeued 5 times:"
   ]
  },
  {
   "cell_type": "code",
   "execution_count": 10,
   "metadata": {},
   "outputs": [
    {
     "name": "stdout",
     "output_type": "stream",
     "text": [
      "['Jeniffer']\n",
      "['Jeniffer', 'Krawczyk']\n",
      "['Jeniffer', 'Krawczyk', 'Reed']\n",
      "['Jeniffer', 'Krawczyk', 'Reed', 'Joan']\n",
      "['Jeniffer', 'Krawczyk', 'Reed', 'Joan', 'Sthephen']\n",
      "['Krawczyk', 'Reed', 'Joan', 'Sthephen']\n",
      "['Reed', 'Joan', 'Sthephen']\n",
      "['Joan', 'Sthephen']\n",
      "['Sthephen']\n",
      "[]\n",
      "True\n"
     ]
    }
   ],
   "source": [
    "import requests\n",
    "import random\n",
    "\n",
    "URL = \"https://raw.githubusercontent.com/JunglePython-ml/Abstract-Data-Structures/main/datasets/firstnames\"\n",
    "\n",
    "RAW = requests.get(URL).text\n",
    "FIRST_NAMES = RAW.split()\n",
    "\n",
    "# Returns a random name from an online database\n",
    "def random_name():\n",
    "    return random.choice(FIRST_NAMES).capitalize()\n",
    "\n",
    "# Main #\n",
    "if __name__ == \"__main__\":\n",
    "    q = Queue()\n",
    "    for i in range(5):\n",
    "        q.enqueue(random_name())\n",
    "        print(q)\n",
    "    for i in range(5):\n",
    "        q.dequeue()\n",
    "        print(q)\n",
    "    print(q.is_empty())"
   ]
  },
  {
   "cell_type": "markdown",
   "metadata": {},
   "source": [
    "### Priority Queues"
   ]
  },
  {
   "cell_type": "markdown",
   "metadata": {},
   "source": [
    "Similar to a standard queue, a priority queue uses a First In First Out policy to store values. However a priority queue will insert each of the values based upon how the system prioritises each of them. \n",
    "\n",
    "This can often be used in sceduling to carry out a sequence of tasks based on their priority."
   ]
  },
  {
   "cell_type": "markdown",
   "metadata": {},
   "source": [
    "A queue can be implimented the using the 'Queue' class above. However some small modifications must be made to ensure that each value carries a priority. This involves using polymorphism to modify the enqueue method so that it is inserted based on the correct priority."
   ]
  },
  {
   "cell_type": "markdown",
   "metadata": {},
   "source": [
    "##### Implimentation"
   ]
  },
  {
   "cell_type": "code",
   "execution_count": 11,
   "metadata": {},
   "outputs": [],
   "source": [
    "class PriorityQueue(Queue):\n",
    "    \"\"\" A priority queue is an abstract data type that uses a First In First Out Policy to store variables in order of\n",
    "    priority.\n",
    "    \n",
    "    :__str__: Represents all litteral data as a string.\n",
    "    \"\"\"\n",
    "    \n",
    "    def __str__(self):\n",
    "        return str(list(list(zip(*self._list))[0]))"
   ]
  },
  {
   "cell_type": "markdown",
   "metadata": {},
   "source": [
    "The pseduocode to dequeue a prioity queue is exactly the same as a linear queue as it can be assumed that the data structure is already sorted into priority."
   ]
  },
  {
   "cell_type": "raw",
   "metadata": {},
   "source": [
    "function dequeue()  \n",
    "    if !isEmpty() then \n",
    "        i = peep() \n",
    "        head++ \n",
    "        return i \n",
    "    endif \n",
    "endfunction"
   ]
  },
  {
   "cell_type": "markdown",
   "metadata": {},
   "source": [
    "The pseduocode is slightly different for a enqueue procedure for a priority queue. An integrated linear search must be used to insert the data at the correct priority location."
   ]
  },
  {
   "cell_type": "raw",
   "metadata": {},
   "source": [
    "procedure enqueue(val, p) \n",
    "    if !isFull() then \n",
    "        for i=head to tail\n",
    "            if queue[i].priority < p then\n",
    "                tail++ \n",
    "                temp = queue[i]\n",
    "                queue[i] = val\n",
    "                break\n",
    "            endif\n",
    "        next i\n",
    "        for i=i+1 to tail\n",
    "            temp1 = queue[i]\n",
    "            queue[i] = temp\n",
    "            temp = temp1\n",
    "        next i         \n",
    "    endif \n",
    "endprocedure"
   ]
  },
  {
   "cell_type": "code",
   "execution_count": 12,
   "metadata": {},
   "outputs": [],
   "source": [
    "def enqueue(self, value, priority: int=0):\n",
    "    \"\"\" Adds a value to the end of the priority queue.\n",
    "\n",
    "    :value: The value to append to the priority queue.\n",
    "    :priority(int): The priority of the value.\n",
    "    \"\"\"\n",
    "    self._list.append((value, priority))\n",
    "    self._list.sort(key=lambda x:x[1])\n",
    "    self._list = self._list[::-1]\n",
    "PriorityQueue.enqueue = enqueue"
   ]
  },
  {
   "cell_type": "markdown",
   "metadata": {},
   "source": [
    "#### Boris' Vacination Priority List"
   ]
  },
  {
   "cell_type": "markdown",
   "metadata": {},
   "source": [
    "Bellow is an implimentation of Boris' vacination priorities and how they can be integerated using a priority queue:"
   ]
  },
  {
   "cell_type": "code",
   "execution_count": 13,
   "metadata": {},
   "outputs": [
    {
     "name": "stdout",
     "output_type": "stream",
     "text": [
      "['Residents in a care home for older adults and staff working in care homes '\n",
      " 'for older adults',\n",
      " 'All those 80 years of age and over and frontline health and social care '\n",
      " 'workers',\n",
      " 'All those 75 years of age and over',\n",
      " 'All those 70 years of age and over and clinically extremely vulnerable '\n",
      " 'individuals (not including pregnant women and those under 16 years of age)',\n",
      " 'All those 65 years of age and over',\n",
      " 'Adults aged 16 to 65 years in an at-risk group (see clinical conditions '\n",
      " 'below)',\n",
      " 'All those 60 years of age and over',\n",
      " 'All those 55 years of age and over',\n",
      " 'All those 50 years of age and over',\n",
      " 'Rest of the population (to be determined)']\n",
      "\n",
      "['All those 65 years of age and over',\n",
      " 'Adults aged 16 to 65 years in an at-risk group (see clinical conditions '\n",
      " 'below)',\n",
      " 'All those 60 years of age and over',\n",
      " 'All those 55 years of age and over',\n",
      " 'All those 50 years of age and over',\n",
      " 'Rest of the population (to be determined)']\n",
      "\n"
     ]
    }
   ],
   "source": [
    "import pprint as pp\n",
    "import random\n",
    "import requests\n",
    "\n",
    "URL = \"https://raw.githubusercontent.com/JunglePython-ml/Abstract-Data-Structures/main/datasets/boris_database\"\n",
    "\n",
    "# Loads Boris' Database and gives each a priority to be vacinated\n",
    "RAW = requests.get(URL).text\n",
    "PRIORITIES = list(enumerate(RAW.split(\"\\n\")[:-1][::-1]))\n",
    "\n",
    "# Main #\n",
    "if __name__ == \"__main__\":\n",
    "    pq = PriorityQueue()\n",
    "    random.shuffle(PRIORITIES)  # Shuffles priorities\n",
    "    for i, p in PRIORITIES:  # Loads all priorities in a priority queue\n",
    "        pq.enqueue(p, i)\n",
    "    pp.pprint(eval(str(pq)))\n",
    "    print()\n",
    "    for i in range(4):  # Top 4 priorities are vacinated and can be dequeued\n",
    "        pq.dequeue()\n",
    "    pp.pprint(eval(str(pq)))\n",
    "    print()"
   ]
  },
  {
   "cell_type": "markdown",
   "metadata": {},
   "source": [
    "## Linked Lists"
   ]
  },
  {
   "cell_type": "markdown",
   "metadata": {},
   "source": [
    "A linked list is an abstract dynamic data structure that consists of sequensial nodes. Each node contains a value and a pointer for the next node in the linked list. The main advantage of using linked lists is the fact that the size of the list can change. Items can be removed and added from a specified location in the list.\n",
    "\n",
    "Linked lists are oftern used to represent graphs and trees"
   ]
  },
  {
   "cell_type": "markdown",
   "metadata": {},
   "source": [
    "### Nodes"
   ]
  },
  {
   "cell_type": "markdown",
   "metadata": {},
   "source": [
    "Nodes are very simple to impliment as they only use a value and a pointer. Plus some addtional magic methods that use recurrsion, for represenation:"
   ]
  },
  {
   "cell_type": "markdown",
   "metadata": {},
   "source": [
    "##### Implimenation"
   ]
  },
  {
   "cell_type": "code",
   "execution_count": 14,
   "metadata": {},
   "outputs": [],
   "source": [
    "class Node:\n",
    "    \"\"\" A representation of a value in a linked list\n",
    "\n",
    "    :__init__: Initialises the pointer and the value.\n",
    "    :__len__: Uses recursive methods to measure the length of the list.\n",
    "    :__str__: Uses recursive methods to represent the list as a string\n",
    "    \"\"\"\n",
    "    \n",
    "    def __init__(self, value=None):\n",
    "        self.value = value\n",
    "        self.pointer = None\n",
    "        \n",
    "    def __len__(self):\n",
    "        if self.pointer is None:\n",
    "            return 1\n",
    "        return len(self.pointer) + 1\n",
    "        \n",
    "    def __str__(self):\n",
    "        return f\"{self.value} -> {self.pointer}\""
   ]
  },
  {
   "cell_type": "markdown",
   "metadata": {},
   "source": [
    "To find a value in a list a linear itteration can be performed, like bellow:"
   ]
  },
  {
   "cell_type": "raw",
   "metadata": {},
   "source": [
    "public function findValue(index)\n",
    "    node = *primary_node\n",
    "    while node.pointer != null && index > 0\n",
    "        node = node.nextNode()\n",
    "        index--\n",
    "    endwhile\n",
    "    return node.value\n",
    "endfunction"
   ]
  },
  {
   "cell_type": "markdown",
   "metadata": {},
   "source": [
    "A recursive method can be used in Python to return a node object at a specific point in the list:"
   ]
  },
  {
   "cell_type": "code",
   "execution_count": 15,
   "metadata": {},
   "outputs": [],
   "source": [
    "def get_node(self, pos=0):\n",
    "    \"\"\" Gets the node from a specified position.\n",
    "    \n",
    "    :pos: The index of the node to be used\n",
    "    :return: The node to be used\n",
    "    \"\"\"\n",
    "    if  pos <= 0:\n",
    "        return self\n",
    "    elif self.pointer is None:\n",
    "        return None\n",
    "    return self.pointer.get_node(pos - 1)\n",
    "Node.get_node = get_node"
   ]
  },
  {
   "cell_type": "markdown",
   "metadata": {},
   "source": [
    "Bellow is a prototype implimenation of a linked list using 3 nodes and linking them together. The primary node (node1) can then be printed to show how these nodes link:"
   ]
  },
  {
   "cell_type": "markdown",
   "metadata": {},
   "source": [
    "##### Testing Script"
   ]
  },
  {
   "cell_type": "code",
   "execution_count": 16,
   "metadata": {},
   "outputs": [
    {
     "name": "stdout",
     "output_type": "stream",
     "text": [
      "0 -> 1 -> 2 -> None\n"
     ]
    }
   ],
   "source": [
    "# Creating objects\n",
    "node1 = Node(0)\n",
    "node2 = Node(1)\n",
    "node3 = Node(2)\n",
    "\n",
    "# Forming links\n",
    "node1.pointer = node2\n",
    "node2.pointer = node3\n",
    "\n",
    "print(node1)"
   ]
  },
  {
   "cell_type": "markdown",
   "metadata": {},
   "source": [
    "The Node class can then be used to impliment a Linked List. This contains 1 node and additional methods such as get value and is empty? :"
   ]
  },
  {
   "cell_type": "markdown",
   "metadata": {},
   "source": [
    "##### Implimentation"
   ]
  },
  {
   "cell_type": "code",
   "execution_count": 17,
   "metadata": {},
   "outputs": [],
   "source": [
    "class LinkedList:\n",
    "    \"\"\" A list template for all common methods of queues, priority queues and stacks\n",
    "\n",
    "    :__init__: Initiatlises the starting node\n",
    "    :__len__: Returns the length of the list\n",
    "    :__str__: Returns the list as a string.\n",
    "    \"\"\"\n",
    "    def __init__(self):\n",
    "        self.__node = None\n",
    "    \n",
    "    def __len__(self):\n",
    "        if self.__node is None:\n",
    "            return 0\n",
    "        return len(self.__node)\n",
    "        \n",
    "    def __str__(self):\n",
    "        return str(self.__node)\n",
    "    \n",
    "    def is_empty(self):\n",
    "        return len(self) == 0\n",
    "    \n",
    "    def get_value(self, pos=0):\n",
    "        return self._LinkedList__node.get_node(pos).value\n",
    "    \n",
    "LinkedList.Node = Node"
   ]
  },
  {
   "cell_type": "markdown",
   "metadata": {},
   "source": [
    "Bellow is some psedocode descibing an appendment to the list:"
   ]
  },
  {
   "cell_type": "raw",
   "metadata": {},
   "source": [
    "public procedure append(value)\n",
    "    node = *primary_node\n",
    "    while node.pointer != null\n",
    "        node = node.nextNode()\n",
    "    endwhile\n",
    "    node.pointer = new Node(value)\n",
    "end procedure"
   ]
  },
  {
   "cell_type": "markdown",
   "metadata": {},
   "source": [
    "To impliment an insert function you have to consider 3 cases: appending a node, making a node the primary node and adding a node in the middle of a list."
   ]
  },
  {
   "cell_type": "code",
   "execution_count": 18,
   "metadata": {},
   "outputs": [],
   "source": [
    "def insert(self, value, pos=0):\n",
    "    \"\"\" Removes node at specified position, from list.\n",
    "    \n",
    "    :pos: The index of the node to be removed\n",
    "    \"\"\"\n",
    "    \n",
    "    def assign(a, b):\n",
    "        node = Node(value)\n",
    "        node.pointer = None if b is None else b\n",
    "        if a is None:\n",
    "            self._LinkedList__node = node\n",
    "        else:\n",
    "            a.pointer = node\n",
    "            \n",
    "    if self.is_empty() or pos == 0:  # Primary node\n",
    "        assign(None, self._LinkedList__node)\n",
    "        return\n",
    "    np = self._LinkedList__node.get_node(pos)\n",
    "    if np is None: # Last node\n",
    "        assign(self._LinkedList__node.get_node(pos - 1), None)\n",
    "        return\n",
    "    assign(self._LinkedList__node.get_node(pos - 1), np) # Middle node\n",
    "LinkedList.insert = insert"
   ]
  },
  {
   "cell_type": "markdown",
   "metadata": {},
   "source": [
    "#### Testing Script"
   ]
  },
  {
   "cell_type": "markdown",
   "metadata": {},
   "source": [
    "Bellow is a testing script to add 10 random integers and random locations in the list:"
   ]
  },
  {
   "cell_type": "code",
   "execution_count": 19,
   "metadata": {},
   "outputs": [
    {
     "name": "stdout",
     "output_type": "stream",
     "text": [
      "List is empty\n",
      "\n",
      "Insert 4 at index 0\n",
      "4 -> None\n",
      "\n",
      "Insert 10 at index 1\n",
      "4 -> 10 -> None\n",
      "\n",
      "Insert 1 at index 0\n",
      "1 -> 4 -> 10 -> None\n",
      "\n",
      "Insert 6 at index 0\n",
      "6 -> 1 -> 4 -> 10 -> None\n",
      "\n",
      "Insert 8 at index 0\n",
      "8 -> 6 -> 1 -> 4 -> 10 -> None\n",
      "\n",
      "Insert 9 at index 4\n",
      "8 -> 6 -> 1 -> 4 -> 9 -> 10 -> None\n",
      "\n",
      "Insert 4 at index 3\n",
      "8 -> 6 -> 1 -> 4 -> 4 -> 9 -> 10 -> None\n",
      "\n",
      "Insert 5 at index 7\n",
      "8 -> 6 -> 1 -> 4 -> 4 -> 9 -> 10 -> 5 -> None\n",
      "\n",
      "Insert 1 at index 1\n",
      "8 -> 1 -> 6 -> 1 -> 4 -> 4 -> 9 -> 10 -> 5 -> None\n",
      "\n",
      "Insert 5 at index 7\n",
      "8 -> 1 -> 6 -> 1 -> 4 -> 4 -> 9 -> 5 -> 10 -> 5 -> None\n",
      "\n",
      "Value 1 is at index 3.\n"
     ]
    }
   ],
   "source": [
    "import random\n",
    "\n",
    "ll = LinkedList()\n",
    "print(\"List is empty\\n\" if ll.is_empty() else None)\n",
    "for i in range(10):\n",
    "    ll.insert(a := random.randint(1, 10), b := random.randint(0, len(ll)))\n",
    "    print(f\"Insert {a} at index {b}\")\n",
    "    print(ll)\n",
    "    print()\n",
    "print(f\"Value {ll.get_value(a := random.randint(0, len(ll)))} is at index {a}.\")"
   ]
  },
  {
   "cell_type": "markdown",
   "metadata": {},
   "source": [
    "Bellow is some pseudocode to remove the end value of a linked list."
   ]
  },
  {
   "cell_type": "markdown",
   "metadata": {},
   "source": [
    "public procedure remove()\n",
    "    node = *primary_node\n",
    "    while node.pointer.pointer != null\n",
    "        node = node.nextNode()\n",
    "        pos--\n",
    "    endwhile\n",
    "    node.pointer = null\n",
    "end procedure"
   ]
  },
  {
   "cell_type": "markdown",
   "metadata": {},
   "source": [
    "To remove an item the list has to be not empty. To achieve a removal, the pointer must be reasigned to the next value. "
   ]
  },
  {
   "cell_type": "code",
   "execution_count": 20,
   "metadata": {},
   "outputs": [],
   "source": [
    "def remove(self, pos=0):\n",
    "    \"\"\" Removes node at specified position, from list.\n",
    "    \n",
    "    :pos: The index of the node to be removed\n",
    "    \"\"\"\n",
    "    def assign(a, b):\n",
    "        if a is None:\n",
    "            self._LinkedList__node = b\n",
    "        else:\n",
    "            a.pointer = b\n",
    "        \n",
    "    if self.is_empty(): # Empty list\n",
    "        return\n",
    "    if pos == 0:  # Primary node\n",
    "        assign(None, self._LinkedList__node.pointer)\n",
    "        return\n",
    "    assign(self._LinkedList__node.get_node(pos - 1), self._LinkedList__node.get_node(pos + 1))\n",
    "LinkedList.remove = remove"
   ]
  },
  {
   "cell_type": "markdown",
   "metadata": {},
   "source": [
    "#### Testing Script"
   ]
  },
  {
   "cell_type": "markdown",
   "metadata": {},
   "source": [
    "Bellow is a testing script that randomly removes each of  the items in the list:"
   ]
  },
  {
   "cell_type": "code",
   "execution_count": 21,
   "metadata": {},
   "outputs": [
    {
     "name": "stdout",
     "output_type": "stream",
     "text": [
      "Remove item at index 0\n",
      "1 -> 6 -> 1 -> 4 -> 4 -> 9 -> 5 -> 10 -> 5 -> None\n",
      "\n",
      "Remove item at index 0\n",
      "6 -> 1 -> 4 -> 4 -> 9 -> 5 -> 10 -> 5 -> None\n",
      "\n",
      "Remove item at index 5\n",
      "6 -> 1 -> 4 -> 4 -> 9 -> 10 -> 5 -> None\n",
      "\n",
      "Remove item at index 1\n",
      "6 -> 4 -> 4 -> 9 -> 10 -> 5 -> None\n",
      "\n",
      "Remove item at index 1\n",
      "6 -> 4 -> 9 -> 10 -> 5 -> None\n",
      "\n",
      "Remove item at index 4\n",
      "6 -> 4 -> 9 -> 10 -> None\n",
      "\n",
      "Remove item at index 2\n",
      "6 -> 4 -> 10 -> None\n",
      "\n",
      "Remove item at index 0\n",
      "4 -> 10 -> None\n",
      "\n",
      "Remove item at index 1\n",
      "4 -> None\n",
      "\n",
      "Remove item at index 1\n",
      "4 -> None\n",
      "\n",
      "Remove item at index 1\n",
      "4 -> None\n",
      "\n"
     ]
    }
   ],
   "source": [
    "for i in range(11):\n",
    "    ll.remove(a := random.randint(0, len(ll)))\n",
    "    print(f\"Remove item at index {a}\")\n",
    "    print(ll)\n",
    "    print()"
   ]
  },
  {
   "cell_type": "code",
   "execution_count": null,
   "metadata": {},
   "outputs": [],
   "source": []
  }
 ],
 "metadata": {
  "kernelspec": {
   "display_name": "Python 3",
   "language": "python",
   "name": "python3"
  },
  "language_info": {
   "codemirror_mode": {
    "name": "ipython",
    "version": 3
   },
   "file_extension": ".py",
   "mimetype": "text/x-python",
   "name": "python",
   "nbconvert_exporter": "python",
   "pygments_lexer": "ipython3",
   "version": "3.8.5"
  }
 },
 "nbformat": 4,
 "nbformat_minor": 4
}
