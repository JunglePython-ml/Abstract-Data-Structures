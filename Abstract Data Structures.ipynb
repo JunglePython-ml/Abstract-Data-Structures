{
 "cells": [
  {
   "cell_type": "markdown",
   "metadata": {},
   "source": [
    "# Abstract Data Structures"
   ]
  },
  {
   "cell_type": "raw",
   "metadata": {},
   "source": [
    "By George Barrell"
   ]
  },
  {
   "cell_type": "markdown",
   "metadata": {},
   "source": [
    "### Data Structure Template"
   ]
  },
  {
   "cell_type": "markdown",
   "metadata": {},
   "source": [
    "As Python doesn't support arrays, the following programs were achieved using lists instead. There are a number of common methods that can be carried out on Queues, Priority Queues and Stacks. Methods like pop(), push() and empty() can be applied to each of these structures, as implimented in the super class bellow:"
   ]
  },
  {
   "cell_type": "code",
   "execution_count": 1,
   "metadata": {},
   "outputs": [],
   "source": [
    "class Array:\n",
    "    \"\"\" A list template for all common methods of queues, priority queues and stacks\n",
    "\n",
    "    :__init__: Represents the datastructer as a list.\n",
    "    :__len__: Returns the length of the list\n",
    "    :__str__: Returns the list as a string.\n",
    "    \"\"\"\n",
    "\n",
    "    def __init__(self):\n",
    "        self._list = []\n",
    "\n",
    "    def __len__(self):\n",
    "        return len(self._list)\n",
    "\n",
    "    def __str__(self):\n",
    "        return str(self._list)\n",
    "\n",
    "    def is_empty(self):\n",
    "        \"\"\" Determines if the list is empty.\n",
    "\n",
    "        :return: If the list is length is zero.\n",
    "        \"\"\"\n",
    "        return len(self) == 0\n",
    "\n",
    "    def empty(self):\n",
    "        \"\"\" Empties the list\n",
    "        \"\"\"\n",
    "        self._list = []\n",
    "\n",
    "    def _pop(self):\n",
    "        \"\"\" Removes the last value from the stack.\n",
    "\n",
    "        :return: The last value of the stack.\n",
    "        \"\"\"\n",
    "        return self._list.pop()\n",
    "\n",
    "    def _push(self, value):\n",
    "        \"\"\" Adds a value to the end of the stack.\n",
    "\n",
    "        :value: The value to append to the stack.\n",
    "        \"\"\"\n",
    "        self._list.append(value)"
   ]
  },
  {
   "cell_type": "markdown",
   "metadata": {},
   "source": [
    "### Stacks"
   ]
  },
  {
   "cell_type": "markdown",
   "metadata": {},
   "source": [
    "A stack is an abstract data structure, that relies on a Last In First Out policy, to hold items or values. It provides functionality such that an item can be pushed or popped off of a stack. A push function takes a value and inserts it onto the top of the stack. A pop function as the functionality of removing the top value from a stack and returning the value of this data. It uses a top variable to indicate the index of the access variable.\n",
    " \n",
    "If an item is pushed onto a full stack this occurs in a stack overflow. Alternatively if an item is popped off an empty stack, this occurs in a stack underflow. \n",
    "\n",
    "There are many situations where a stack is applicable. One of the main applications is in procedural programming. When a series of function/procedural calls are performed a stack can be used to unwrap nested function calls dealing with the most resent function call first and working down the stack until empty. They are also used for undo/redo functionality on documents. \n",
    "\n"
   ]
  },
  {
   "cell_type": "markdown",
   "metadata": {},
   "source": [
    "To impliment a stack, the following class can be used to inherit common methods from the template above, like in the following implimentation:"
   ]
  },
  {
   "cell_type": "code",
   "execution_count": 2,
   "metadata": {},
   "outputs": [],
   "source": [
    "class Stack(Array):\n",
    "    \"\"\" A stack is an abstract data type that uses a Last In First Out Policy to store variables.\n",
    "    \"\"\""
   ]
  },
  {
   "cell_type": "markdown",
   "metadata": {},
   "source": [
    "Bellow is the pseudocode for a pop function that demonstrates removing an element of a stack:"
   ]
  },
  {
   "cell_type": "raw",
   "metadata": {},
   "source": [
    "function pop()  \n",
    "    if !isEmpty() then \n",
    "        i = peep() \n",
    "        top-- \n",
    "        return i \n",
    "    endif \n",
    "endfunction "
   ]
  },
  {
   "cell_type": "code",
   "execution_count": 3,
   "metadata": {},
   "outputs": [],
   "source": [
    "Stack.pop = Array._pop"
   ]
  },
  {
   "cell_type": "markdown",
   "metadata": {},
   "source": [
    "Bellow is the pseudocode for a push procedure that demonstrates adding an element to a stack:"
   ]
  },
  {
   "cell_type": "raw",
   "metadata": {},
   "source": [
    "procedure push(i) \n",
    "    if !isFull() then \n",
    "        top++ \n",
    "        stack[top] = i \n",
    "       endif \n",
    "endprocedure "
   ]
  },
  {
   "cell_type": "code",
   "execution_count": 4,
   "metadata": {},
   "outputs": [],
   "source": [
    "Stack.push = Array._push"
   ]
  },
  {
   "cell_type": "markdown",
   "metadata": {},
   "source": [
    "An additional function that is not shared by queues is a method that allows you to look at the top value in a stack. This is easily achieved using this implimentation:"
   ]
  },
  {
   "cell_type": "code",
   "execution_count": 5,
   "metadata": {},
   "outputs": [],
   "source": [
    "def peep(self):\n",
    "    \"\"\" Peeps on the last value in the stack.\n",
    "\n",
    "    :return: The last value of the stack.\n",
    "    \"\"\"\n",
    "    return self._list[-1]\n",
    "Stack.peep = peep"
   ]
  },
  {
   "cell_type": "markdown",
   "metadata": {},
   "source": [
    "#### Towers Of Hanoi \n",
    "https://en.wikipedia.org/wiki/Tower_of_Hanoi"
   ]
  },
  {
   "cell_type": "markdown",
   "metadata": {},
   "source": [
    "To demonstrate the all methods work and implimentation is successful I have implimented the 'Towers Of Hanoi' puzzle bellow:"
   ]
  },
  {
   "cell_type": "code",
   "execution_count": 6,
   "metadata": {},
   "outputs": [
    {
     "name": "stdout",
     "output_type": "stream",
     "text": [
      "[0, 1]\n",
      "[]\n",
      "[]\n",
      "\n",
      "Move 1 from A to B\n",
      "[0]\n",
      "[1]\n",
      "[]\n",
      "\n",
      "Move 0 from A to C\n",
      "[]\n",
      "[1]\n",
      "[0]\n",
      "\n",
      "Move 1 from B to C\n",
      "[]\n",
      "[]\n",
      "[0, 1]\n",
      "\n"
     ]
    }
   ],
   "source": [
    "N = 2  # Stack height\n",
    "\n",
    "## Moves each value over the stack\n",
    "def move(n, a, b):\n",
    "    chars = list(zip(*print_list))[1]\n",
    "    out = [st_A, st_C, st_B, a.peep()] + [chars[list(zip(*print_list))[0].index(i)] for i in [a, b]]\n",
    "    print(\"{0}\\n{1}\\n{2}\\n\\nMove {3} from {4} to {5}\".format(*out))  # Utilisation of the peep() method\n",
    "    b.push(a.pop())  # Moves value on stack 'a'to stack 'b' using the push() and pop() methods\n",
    "\n",
    "## Recursive implimentation of the Towers Of Hanoi\n",
    "def TowerOfHanoi(n, a, b, c):\n",
    "    if n==1: \n",
    "        move(n, a, b)\n",
    "        return\n",
    "    TowerOfHanoi(n-1, a, c, b) \n",
    "    move(n, a, b)\n",
    "    TowerOfHanoi(n-1, c, b, a) \n",
    "    \n",
    "# Main #\n",
    "if __name__ == \"__main__\":\n",
    "    st_A, st_B, st_C = Stack(), Stack(), Stack()  # Creates three stacks\n",
    "    for i in range(N):\n",
    "        st_A.push(i)\n",
    "    print_list = [(st_A, 'A'), (st_C, 'B'), (st_B, 'C')]\n",
    "    TowerOfHanoi(N, st_A, st_B, st_C)  # Moves the stacks from A to C\n",
    "    print(f\"{st_A}\\n{st_C}\\n{st_B}\\n\")"
   ]
  },
  {
   "cell_type": "markdown",
   "metadata": {},
   "source": [
    "### Queues"
   ]
  },
  {
   "cell_type": "markdown",
   "metadata": {},
   "source": [
    "A queue is an abstract data structure. Like a stack it provides functionality to add and remove items However it does this using a First In First Out policy. This means that items are removed from one end (dequeue) and appended to the other (enqueue). Instead it will use the top a tail variable to measure the range of the queue.\n",
    "\n",
    "\n",
    "Linear queues are often applicable when carrying out a series of tasks in sequence."
   ]
  },
  {
   "cell_type": "markdown",
   "metadata": {},
   "source": [
    "A queue can be implimented using the array template made previous and creating a subclass like the one bellow:"
   ]
  },
  {
   "cell_type": "code",
   "execution_count": 7,
   "metadata": {},
   "outputs": [],
   "source": [
    "class Queue(Array):\n",
    "    \"\"\" A queue is an abstract data type that uses a First In First Out Policy to store variables.\n",
    "    \"\"\""
   ]
  },
  {
   "cell_type": "markdown",
   "metadata": {},
   "source": [
    "The enqueue procedure can be performed exactly the same as a stack's push procedure ie:"
   ]
  },
  {
   "cell_type": "raw",
   "metadata": {},
   "source": [
    "procedure enqueue(i) \n",
    "    if !isFull() then \n",
    "        tail++ \n",
    "        queue[top] = i \n",
    "       endif \n",
    "endprocedure "
   ]
  },
  {
   "cell_type": "code",
   "execution_count": 20,
   "metadata": {},
   "outputs": [],
   "source": [
    "Queue.enqueue = Array._push"
   ]
  },
  {
   "cell_type": "markdown",
   "metadata": {},
   "source": [
    "The dequeue method works similarly to a stack pop function. However it will pop the first item in the queue."
   ]
  },
  {
   "cell_type": "raw",
   "metadata": {},
   "source": [
    "function pop()  \n",
    "    if !isEmpty() then \n",
    "        i = peep() \n",
    "        head-- \n",
    "        return i \n",
    "    endif \n",
    "endfunction"
   ]
  },
  {
   "cell_type": "markdown",
   "metadata": {},
   "source": [
    "Implimentation is similar. However the first item is poped instead of the last."
   ]
  },
  {
   "cell_type": "code",
   "execution_count": 21,
   "metadata": {},
   "outputs": [],
   "source": [
    "def dequeue(self):\n",
    "    return self._list.pop(0)\n",
    "Queue.dequeue = dequeue"
   ]
  },
  {
   "cell_type": "code",
   "execution_count": 26,
   "metadata": {},
   "outputs": [
    {
     "name": "stdout",
     "output_type": "stream",
     "text": [
      "['Shay']\n",
      "['Shay', 'Shadia']\n",
      "['Shay', 'Shadia', 'Wallk']\n",
      "['Shay', 'Shadia', 'Wallk', 'Daniella']\n",
      "['Shay', 'Shadia', 'Wallk', 'Daniella', 'Milton']\n",
      "['Shadia', 'Wallk', 'Daniella', 'Milton']\n",
      "['Wallk', 'Daniella', 'Milton']\n",
      "['Daniella', 'Milton']\n",
      "['Milton']\n",
      "[]\n",
      "True\n"
     ]
    }
   ],
   "source": [
    "import requests\n",
    "import random\n",
    "\n",
    "URL = \"https://raw.githubusercontent.com/JunglePython-ml/Abstract-Data-Structures/main/firstnames\"\n",
    "\n",
    "RAW = requests.get(URL).text\n",
    "FIRST_NAMES = RAW.split()\n",
    "\n",
    "# Returns a random name from my online API\n",
    "def random_name():\n",
    "    return random.choice(FIRST_NAMES).capitalize()\n",
    "\n",
    "# Main #\n",
    "if __name__ == \"__main__\":\n",
    "    q = Queue()\n",
    "    for i in range(5):\n",
    "        q.enqueue(random_name())\n",
    "        print(q)\n",
    "    for i in range(5):\n",
    "        q.dequeue()\n",
    "        print(q)\n",
    "    print(q.is_empty())"
   ]
  },
  {
   "cell_type": "code",
   "execution_count": null,
   "metadata": {},
   "outputs": [],
   "source": []
  }
 ],
 "metadata": {
  "kernelspec": {
   "display_name": "Python 3",
   "language": "python",
   "name": "python3"
  },
  "language_info": {
   "codemirror_mode": {
    "name": "ipython",
    "version": 3
   },
   "file_extension": ".py",
   "mimetype": "text/x-python",
   "name": "python",
   "nbconvert_exporter": "python",
   "pygments_lexer": "ipython3",
   "version": "3.8.5"
  }
 },
 "nbformat": 4,
 "nbformat_minor": 4
}
